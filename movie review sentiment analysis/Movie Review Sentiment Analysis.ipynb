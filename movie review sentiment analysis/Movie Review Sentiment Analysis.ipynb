{
 "cells": [
  {
   "cell_type": "markdown",
   "metadata": {},
   "source": [
    "# Movie Review Sentiment Analysis"
   ]
  },
  {
   "cell_type": "markdown",
   "metadata": {},
   "source": [
    "This notebook creates a logistic regression, svm, and naive bayes classifier from training data to train these model.\n",
    "in this motebok data that we are using having review of a movie and sentiment (positive or negative) of movie."
   ]
  },
  {
   "cell_type": "markdown",
   "metadata": {},
   "source": [
    "# Load Python Library that we are use in this analysis"
   ]
  },
  {
   "cell_type": "code",
   "execution_count": 1,
   "metadata": {
    "collapsed": true
   },
   "outputs": [],
   "source": [
    "import csv\n",
    "from sklearn.linear_model import LogisticRegression as LR\n",
    "from sklearn import svm\n",
    "from sklearn.naive_bayes import BernoulliNB\n",
    "from sklearn.feature_extraction.text import CountVectorizer\n",
    "from sklearn.feature_extraction.text import TfidfTransformer\n",
    "from sklearn import cross_validation\n",
    "from sklearn.metrics import classification_report\n",
    "import numpy as np\n",
    "from sklearn.metrics import accuracy_score\n",
    "import pandas as pd\n",
    "from sklearn.utils import shuffle\n",
    "from nltk.corpus import stopwords\n",
    "import nltk\n",
    "import re\n",
    "from sklearn.grid_search import GridSearchCV\n",
    "from sklearn.linear_model import SGDClassifier as SGD"
   ]
  },
  {
   "cell_type": "markdown",
   "metadata": {},
   "source": [
    "# Load Data Set from review file"
   ]
  },
  {
   "cell_type": "code",
   "execution_count": 2,
   "metadata": {
    "collapsed": false
   },
   "outputs": [],
   "source": [
    "def load_file():\n",
    "    with open('review.csv') as csv_file:\n",
    "        reader = csv.reader(csv_file,delimiter=\",\",quotechar='\"')\n",
    "        reader.next()\n",
    "        data =[]\n",
    "        target = []\n",
    "        for row in reader:\n",
    "            # skip missing data\n",
    "            if row[0] and row[1]:\n",
    "                data.append(row[0])\n",
    "                target.append(row[1])\n",
    "\n",
    "        return data,target\n"
   ]
  },
  {
   "cell_type": "code",
   "execution_count": 5,
   "metadata": {
    "collapsed": false
   },
   "outputs": [],
   "source": [
    "data,target = load_file()\n"
   ]
  },
  {
   "cell_type": "markdown",
   "metadata": {},
   "source": [
    "#### there are  basically two columns first is the review data and second is sentiment as shown positive sentiment"
   ]
  },
  {
   "cell_type": "code",
   "execution_count": 7,
   "metadata": {
    "collapsed": false
   },
   "outputs": [],
   "source": [
    "# preprocess creates the term frequency matrix for the review data set\n",
    "count_vectorizer = CountVectorizer()\n",
    "data1 = count_vectorizer.fit_transform(data)\n",
    "tfidf_data = TfidfTransformer(use_idf=False).fit_transform(data1)"
   ]
  },
  {
   "cell_type": "code",
   "execution_count": 8,
   "metadata": {
    "collapsed": false
   },
   "outputs": [
    {
     "name": "stdout",
     "output_type": "stream",
     "text": [
      "             precision    recall  f1-score   support\n",
      "\n",
      "   negative       0.80      0.88      0.84       230\n",
      "   positive       0.80      0.69      0.74       162\n",
      "\n",
      "avg / total       0.80      0.80      0.80       392\n",
      "\n",
      "The accuracy score is 80.10%\n"
     ]
    }
   ],
   "source": [
    "# preparing data for split validation. 80% training, 20% test\n",
    "data_train,data_test,target_train,target_test =cross_validation.train_test_split(tfidf_data,\\\n",
    "                                                                                          target,test_size=0.2,\\\n",
    "                                                                                          random_state=43)\n",
    "\n",
    "classifier = BernoulliNB().fit(data_train,target_train)\n",
    "predicted = classifier.predict(data_test)\n",
    "\n",
    "print classification_report(target_test,predicted)\n",
    "print \"The accuracy score is {:.2%}\".format(accuracy_score(target_test,predicted))"
   ]
  },
  {
   "cell_type": "markdown",
   "metadata": {},
   "source": [
    "Here we can see accuracy of our model is 80% when we are using the 80% of data as a training data let's try on different combination of data for training and test"
   ]
  },
  {
   "cell_type": "code",
   "execution_count": 9,
   "metadata": {
    "collapsed": false
   },
   "outputs": [
    {
     "name": "stdout",
     "output_type": "stream",
     "text": [
      "             precision    recall  f1-score   support\n",
      "\n",
      "   negative       0.71      0.91      0.80       409\n",
      "   positive       0.86      0.59      0.70       375\n",
      "\n",
      "avg / total       0.78      0.76      0.75       784\n",
      "\n",
      "The accuracy score is 75.89%\n"
     ]
    }
   ],
   "source": [
    "# preparing data for split validation. 60% training, 40% test\n",
    "data_train,data_test,target_train,target_test =cross_validation.train_test_split(tfidf_data,\\\n",
    "                                                                                          target,test_size=0.4,\\\n",
    "                                                                                          random_state=43)\n",
    "\n",
    "classifier = BernoulliNB().fit(data_train,target_train)\n",
    "predicted = classifier.predict(data_test)\n",
    "\n",
    "print classification_report(target_test,predicted)\n",
    "print \"The accuracy score is {:.2%}\".format(accuracy_score(target_test,predicted))"
   ]
  }
 ],
 "metadata": {
  "kernelspec": {
   "display_name": "Python 2",
   "language": "python",
   "name": "python2"
  },
  "language_info": {
   "codemirror_mode": {
    "name": "ipython",
    "version": 2
   },
   "file_extension": ".py",
   "mimetype": "text/x-python",
   "name": "python",
   "nbconvert_exporter": "python",
   "pygments_lexer": "ipython2",
   "version": "2.7.3"
  }
 },
 "nbformat": 4,
 "nbformat_minor": 0
}
